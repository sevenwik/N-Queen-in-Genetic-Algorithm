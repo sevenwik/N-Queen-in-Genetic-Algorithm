{
 "cells": [
  {
   "cell_type": "code",
   "execution_count": 361,
   "metadata": {},
   "outputs": [],
   "source": [
    "import random\n",
    "import time"
   ]
  },
  {
   "cell_type": "code",
   "execution_count": 362,
   "metadata": {},
   "outputs": [],
   "source": [
    "def getNum(v) :\n",
    "    n = len(v)\n",
    "    index = random.randint(0, n - 1)\n",
    "    num = v[index]\n",
    "    v[index], v[n - 1] = v[n - 1], v[index]\n",
    "    v.pop()\n",
    "    return num\n",
    "\n",
    "def GenerateRandomChromosome(NumberOfQueens):\n",
    "    #[1,4,2,3,6,7,5,8]\n",
    "    randomGenerator = [0] * NumberOfQueens\n",
    "    \n",
    "    chromosome = []\n",
    "    for i in range(NumberOfQueens) :\n",
    "        randomGenerator[i] = i + 1\n",
    "\n",
    "    while (len(randomGenerator)) :\n",
    "        chromosome.append(getNum(randomGenerator)) #getting the position of queens on board and storing it in chromosome\n",
    "\n",
    "    #Example of generated output of this function [1,4,2,3,6,7,5,8] for 8 Queens\n",
    "    return chromosome\n"
   ]
  },
  {
   "cell_type": "code",
   "execution_count": 363,
   "metadata": {},
   "outputs": [],
   "source": [
    "def fitness(chromosome):\n",
    "    #Function calculates the number of left and right side diagonal collisions.\n",
    "    diagonalCollisons = 0 \n",
    "\n",
    "    n = len(chromosome)\n",
    "    leftDiagonal = [0] * 2*n\n",
    "    rightDiagonal = [0] * 2*n\n",
    "    for i in range(n):\n",
    "        leftDiagonal[i + chromosome[i] - 1] += 1\n",
    "        rightDiagonal[len(chromosome) - i + chromosome[i] - 2] += 1\n",
    "\n",
    "    diagonalCollisons = 0\n",
    "    for i in range(2*n-1):\n",
    "        counter = 0\n",
    "        if leftDiagonal[i] > 1:\n",
    "            counter += leftDiagonal[i]-1\n",
    "        if rightDiagonal[i] > 1:\n",
    "            counter += rightDiagonal[i]-1\n",
    "        diagonalCollisons += counter\n",
    "    return int(maxFitness - diagonalCollisons) #28-(2+3)=23 \n",
    "    #maxfitness is reduced by the number of collisions\n",
    "    #therefore, the one with maximum colisions will have least fitness value"
   ]
  },
  {
   "cell_type": "code",
   "execution_count": 364,
   "metadata": {},
   "outputs": [],
   "source": [
    "def parentSelection(chromosomeWithFitness):\n",
    "    sortedPopulation = sorted(chromosomeWithFitness, key=lambda x: x['Fitness'], reverse=True)\n",
    "    return [sortedPopulation[0], sortedPopulation[1]]"
   ]
  },
  {
   "cell_type": "code",
   "execution_count": 365,
   "metadata": {},
   "outputs": [],
   "source": [
    "def crossover(parents):\n",
    "    \n",
    "    parent1 = parents[0]['Chromosome']\n",
    "    parent2 = parents[1]['Chromosome']\n",
    "\n",
    "\n",
    "    size = len(parent1)\n",
    "\n",
    "    child1, child2 = [-1] * size, [-1] * size\n",
    "    start, end = sorted([random.randrange(size) for _ in range(2)]) \n",
    "    #generating two random points \n",
    "    # and \n",
    "    # values between these two points will be copied directly to child\n",
    "\n",
    "    child1Inherited = []\n",
    "    child2Inherited = []\n",
    "    for i in range(start, end + 1):\n",
    "        child1[i] = parent1[i]\n",
    "        child2[i] = parent2[i]\n",
    "        child1Inherited.append(parent1[i])\n",
    "        child2Inherited.append(parent2[i])\n",
    "\n",
    "    #values are copied from the respective parents\n",
    "\n",
    "    current_parent2_position, current_parent1_position = 0, 0\n",
    "\n",
    "    fixed_pos = list(range(start, end + 1))       \n",
    "    i = 0\n",
    "    while i < size:\n",
    "        if i in fixed_pos:\n",
    "            i += 1\n",
    "            continue\n",
    "\n",
    "        testChild1 = child1[i]\n",
    "        if testChild1==-1: #to be filled\n",
    "            parent2Trait = parent2[current_parent2_position]\n",
    "            while parent2Trait in child1Inherited:\n",
    "                current_parent2_position += 1\n",
    "                parent2Trait = parent2[current_parent2_position]\n",
    "            child1[i] = parent2Trait\n",
    "            child1Inherited.append(parent2Trait)\n",
    "\n",
    "        i +=1\n",
    "\n",
    "    #now remaining values are copied from the other parent \n",
    "    # example; \n",
    "    # we can see above that for child1 parent 2 values are copied \n",
    "        \n",
    "    fixed_pos = list(range(start, end + 1))       \n",
    "    i = 0\n",
    "    while i < size:\n",
    "        if i in fixed_pos:\n",
    "            i += 1\n",
    "            continue\n",
    "\n",
    "        testChild2 = child2[i]\n",
    "        if testChild2==-1:\n",
    "            parent1Trait = parent1[current_parent1_position]\n",
    "            while parent1Trait in child2Inherited:\n",
    "                current_parent1_position += 1\n",
    "                parent1Trait = parent1[current_parent1_position]\n",
    "            child2[i] = parent1Trait\n",
    "            child2Inherited.append(parent1Trait)\n",
    "\n",
    "        i +=1\n",
    "    #Similarly for child2 we copy from parent1\n",
    "    return [child1, child2]\n",
    "    "
   ]
  },
  {
   "cell_type": "code",
   "execution_count": 366,
   "metadata": {},
   "outputs": [],
   "source": [
    "def mutate(childs):\n",
    "    start1, end1 = [random.randrange(len(childs[0])) for _ in range(2)]\n",
    "    start2, end2 = [random.randrange(len(childs[0])) for _ in range(2)]\n",
    "    childs[0][start1], childs[0][end1] = childs[0][end1], childs[0][start1]\n",
    "    childs[1][start2], childs[1][end2] = childs[1][end2], childs[1][start2]\n",
    "\n",
    "    return childs"
   ]
  },
  {
   "cell_type": "code",
   "execution_count": 373,
   "metadata": {},
   "outputs": [
    {
     "name": "stdout",
     "output_type": "stream",
     "text": [
      "Number Queens:  150\n",
      "11112\n",
      "Optimal Solution Chromosome:  {'Chromosome': [93, 26, 101, 147, 54, 95, 2, 63, 105, 109, 44, 134, 84, 114, 98, 58, 52, 150, 70, 76, 140, 36, 120, 53, 45, 64, 137, 88, 103, 118, 32, 141, 138, 92, 83, 123, 62, 29, 21, 9, 145, 22, 90, 106, 34, 111, 18, 117, 60, 129, 56, 146, 28, 46, 33, 16, 143, 80, 104, 121, 24, 112, 72, 116, 65, 87, 149, 108, 14, 17, 7, 59, 35, 115, 132, 107, 100, 61, 27, 30, 91, 119, 39, 8, 102, 12, 25, 41, 31, 13, 49, 136, 99, 133, 131, 51, 124, 113, 142, 15, 135, 148, 75, 81, 37, 125, 110, 89, 82, 96, 10, 40, 139, 3, 19, 77, 50, 6, 71, 85, 48, 73, 4, 38, 20, 144, 97, 47, 127, 69, 5, 126, 130, 74, 79, 1, 23, 122, 55, 42, 78, 67, 86, 66, 43, 57, 11, 94, 128, 68], 'Fitness': 11175}\n",
      "Total Time to execute:  11.996285915374756\n",
      "Total Iterations/Generations:  11296\n"
     ]
    }
   ],
   "source": [
    "if __name__ == \"__main__\":\n",
    "    start = time.time()\n",
    "    numberOfQueens = 150 #Input: Number of queens\n",
    "    maxFitness = (numberOfQueens*(numberOfQueens-1))/2 # (8*(8-1))/2 = 28 \n",
    "    population = [GenerateRandomChromosome(numberOfQueens) for _ in range(1000)]\n",
    "    generation = 1\n",
    "    chromosomeWithFitness = []\n",
    "    for n in population:\n",
    "        tempDict = {'Chromosome': n}\n",
    "        tempDict['Fitness'] = fitness(n)\n",
    "        chromosomeWithFitness.append(tempDict)\n",
    "    print(\"Number Queens: \", numberOfQueens)\n",
    "    print(max([chrom['Fitness'] for chrom in chromosomeWithFitness]))\n",
    "    \n",
    "while maxFitness not in [chrom['Fitness'] for chrom in chromosomeWithFitness]:\n",
    "    parents = parentSelection(chromosomeWithFitness)\n",
    "\n",
    "    childs = crossover(parents)\n",
    "\n",
    "    childs = mutate(childs)\n",
    "\n",
    "    #replace the old population with new ones.\n",
    "    chromosomeWithFitness = sorted(chromosomeWithFitness, key=lambda x: x['Fitness'])\n",
    "    chromosomeWithFitness[0], chromosomeWithFitness[1] = {'Chromosome': childs[0], 'Fitness': fitness(childs[0])}, {'Chromosome': childs[1], 'Fitness': fitness(childs[1])}\n",
    "\n",
    "    generation += 1\n",
    "\n",
    "finalList = sorted(chromosomeWithFitness, key=lambda x: x['Fitness'], reverse=True)\n",
    "print(\"Optimal Solution Chromosome: \", finalList[0]) #Output is number of generations and the N queen solution\n",
    "print(\"Total Time to execute: \",time.time()-start)\n",
    "print(\"Total Iterations/Generations: \",generation)"
   ]
  }
 ],
 "metadata": {
  "kernelspec": {
   "display_name": "Python 3.9.10 64-bit",
   "language": "python",
   "name": "python3"
  },
  "language_info": {
   "codemirror_mode": {
    "name": "ipython",
    "version": 3
   },
   "file_extension": ".py",
   "mimetype": "text/x-python",
   "name": "python",
   "nbconvert_exporter": "python",
   "pygments_lexer": "ipython3",
   "version": "3.9.10"
  },
  "orig_nbformat": 4,
  "vscode": {
   "interpreter": {
    "hash": "aee8b7b246df8f9039afb4144a1f6fd8d2ca17a180786b69acc140d282b71a49"
   }
  }
 },
 "nbformat": 4,
 "nbformat_minor": 2
}
